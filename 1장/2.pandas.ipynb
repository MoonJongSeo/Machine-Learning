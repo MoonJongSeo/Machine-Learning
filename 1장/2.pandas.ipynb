{
 "metadata": {
  "language_info": {
   "codemirror_mode": {
    "name": "ipython",
    "version": 3
   },
   "file_extension": ".py",
   "mimetype": "text/x-python",
   "name": "python",
   "nbconvert_exporter": "python",
   "pygments_lexer": "ipython3",
   "version": "3.7.9-final"
  },
  "orig_nbformat": 2,
  "kernelspec": {
   "name": "python3",
   "display_name": "Python 3.7.9 64-bit (conda)",
   "metadata": {
    "interpreter": {
     "hash": "69212f882d919239973a505f79be5f487d0ea1712581324f4ed2b107edf27050"
    }
   }
  }
 },
 "nbformat": 4,
 "nbformat_minor": 2,
 "cells": [
  {
   "cell_type": "code",
   "execution_count": 2,
   "metadata": {},
   "outputs": [],
   "source": [
    "# !pip install pandas\n",
    "\n",
    "import pandas as pd"
   ]
  },
  {
   "source": [
    "### 타이타닉 파일 확인"
   ],
   "cell_type": "markdown",
   "metadata": {}
  },
  {
   "cell_type": "code",
   "execution_count": 12,
   "metadata": {},
   "outputs": [
    {
     "output_type": "execute_result",
     "data": {
      "text/plain": [
       "   PassengerId  Survived  Pclass  \\\n",
       "0            1         0       3   \n",
       "1            2         1       1   \n",
       "2            3         1       3   \n",
       "\n",
       "                                                Name     Sex   Age  SibSp  \\\n",
       "0                            Braund, Mr. Owen Harris    male  22.0      1   \n",
       "1  Cumings, Mrs. John Bradley (Florence Briggs Th...  female  38.0      1   \n",
       "2                             Heikkinen, Miss. Laina  female  26.0      0   \n",
       "\n",
       "   Parch            Ticket     Fare Cabin Embarked  \n",
       "0      0         A/5 21171   7.2500   NaN        S  \n",
       "1      0          PC 17599  71.2833   C85        C  \n",
       "2      0  STON/O2. 3101282   7.9250   NaN        S  "
      ],
      "text/html": "<div>\n<style scoped>\n    .dataframe tbody tr th:only-of-type {\n        vertical-align: middle;\n    }\n\n    .dataframe tbody tr th {\n        vertical-align: top;\n    }\n\n    .dataframe thead th {\n        text-align: right;\n    }\n</style>\n<table border=\"1\" class=\"dataframe\">\n  <thead>\n    <tr style=\"text-align: right;\">\n      <th></th>\n      <th>PassengerId</th>\n      <th>Survived</th>\n      <th>Pclass</th>\n      <th>Name</th>\n      <th>Sex</th>\n      <th>Age</th>\n      <th>SibSp</th>\n      <th>Parch</th>\n      <th>Ticket</th>\n      <th>Fare</th>\n      <th>Cabin</th>\n      <th>Embarked</th>\n    </tr>\n  </thead>\n  <tbody>\n    <tr>\n      <th>0</th>\n      <td>1</td>\n      <td>0</td>\n      <td>3</td>\n      <td>Braund, Mr. Owen Harris</td>\n      <td>male</td>\n      <td>22.0</td>\n      <td>1</td>\n      <td>0</td>\n      <td>A/5 21171</td>\n      <td>7.2500</td>\n      <td>NaN</td>\n      <td>S</td>\n    </tr>\n    <tr>\n      <th>1</th>\n      <td>2</td>\n      <td>1</td>\n      <td>1</td>\n      <td>Cumings, Mrs. John Bradley (Florence Briggs Th...</td>\n      <td>female</td>\n      <td>38.0</td>\n      <td>1</td>\n      <td>0</td>\n      <td>PC 17599</td>\n      <td>71.2833</td>\n      <td>C85</td>\n      <td>C</td>\n    </tr>\n    <tr>\n      <th>2</th>\n      <td>3</td>\n      <td>1</td>\n      <td>3</td>\n      <td>Heikkinen, Miss. Laina</td>\n      <td>female</td>\n      <td>26.0</td>\n      <td>0</td>\n      <td>0</td>\n      <td>STON/O2. 3101282</td>\n      <td>7.9250</td>\n      <td>NaN</td>\n      <td>S</td>\n    </tr>\n  </tbody>\n</table>\n</div>"
     },
     "metadata": {},
     "execution_count": 12
    }
   ],
   "source": [
    "# titanic_train.csv 파일 읽어오기\n",
    "titanic_df = pd.read_csv('data-files/titanic_train.csv')\n",
    "titanic_df.head(3)"
   ]
  },
  {
   "cell_type": "code",
   "execution_count": 9,
   "metadata": {},
   "outputs": [
    {
     "output_type": "stream",
     "name": "stdout",
     "text": [
      "titanic 변수 type :  <class 'pandas.core.frame.DataFrame'>\nDataFrame 크기 :  (891, 12)\n<class 'pandas.core.frame.DataFrame'>\nRangeIndex: 891 entries, 0 to 890\nData columns (total 12 columns):\n #   Column       Non-Null Count  Dtype  \n---  ------       --------------  -----  \n 0   PassengerId  891 non-null    int64  \n 1   Survived     891 non-null    int64  \n 2   Pclass       891 non-null    int64  \n 3   Name         891 non-null    object \n 4   Sex          891 non-null    object \n 5   Age          714 non-null    float64\n 6   SibSp        891 non-null    int64  \n 7   Parch        891 non-null    int64  \n 8   Ticket       891 non-null    object \n 9   Fare         891 non-null    float64\n 10  Cabin        204 non-null    object \n 11  Embarked     889 non-null    object \ndtypes: float64(2), int64(5), object(5)\nmemory usage: 83.7+ KB\nNone\n       PassengerId    Survived      Pclass         Age       SibSp  \\\ncount   891.000000  891.000000  891.000000  714.000000  891.000000   \nmean    446.000000    0.383838    2.308642   29.699118    0.523008   \nstd     257.353842    0.486592    0.836071   14.526497    1.102743   \nmin       1.000000    0.000000    1.000000    0.420000    0.000000   \n25%     223.500000    0.000000    2.000000   20.125000    0.000000   \n50%     446.000000    0.000000    3.000000   28.000000    0.000000   \n75%     668.500000    1.000000    3.000000   38.000000    1.000000   \nmax     891.000000    1.000000    3.000000   80.000000    8.000000   \n\n            Parch        Fare  \ncount  891.000000  891.000000  \nmean     0.381594   32.204208  \nstd      0.806057   49.693429  \nmin      0.000000    0.000000  \n25%      0.000000    7.910400  \n50%      0.000000   14.454200  \n75%      0.000000   31.000000  \nmax      6.000000  512.329200  \n"
     ]
    }
   ],
   "source": [
    "# titanic_df 기본 정보 확인\n",
    "\n",
    "# titanic_df 타입 확인\n",
    "print('titanic 변수 type : ', type(titanic_df))\n",
    "\n",
    "# titanic_df 크기 확인\n",
    "print( 'DataFrame 크기 : ', titanic_df.shape )\n",
    "\n",
    "# titanic_df 메타 데이터 확인\n",
    "print( titanic_df.info() )\n",
    "\n",
    "# titanic_df 데이터 분포도 확인\n",
    "print( titanic_df.describe() )"
   ]
  },
  {
   "cell_type": "code",
   "execution_count": 10,
   "metadata": {},
   "outputs": [
    {
     "output_type": "stream",
     "name": "stdout",
     "text": [
      "3    491\n1    216\n2    184\nName: Pclass, dtype: int64\n"
     ]
    }
   ],
   "source": [
    "# value_counts() 함수를 사용해 칼럼값의 유형과 건수 확인\n",
    "value_counts = titanic_df['Pclass'].value_counts()\n",
    "print( value_counts )"
   ]
  },
  {
   "cell_type": "code",
   "execution_count": 13,
   "metadata": {},
   "outputs": [
    {
     "output_type": "stream",
     "name": "stdout",
     "text": [
      "<class 'pandas.core.series.Series'>\n0    3\n1    1\n2    3\n3    1\n4    3\nName: Pclass, dtype: int64\n"
     ]
    }
   ],
   "source": [
    "# titanic_df['Pclass']의 데이터 타입 확인\n",
    "titanic_pclass = titanic_df['Pclass']\n",
    "print( type(titanic_pclass) )\n",
    "\n",
    "# titanic_df['Pclass']의 ( 인덱스, 데이터값 ) 확인\n",
    "print( titanic_pclass.head() )"
   ]
  },
  {
   "source": [
    "### ndarray, list, dictionary, DataFrame의 변환"
   ],
   "cell_type": "markdown",
   "metadata": {}
  },
  {
   "cell_type": "code",
   "execution_count": 3,
   "metadata": {},
   "outputs": [
    {
     "output_type": "stream",
     "name": "stdout",
     "text": [
      "array1 shape : (3,)\n1차원 리스트로 만든 DataFrame :\n    col\n0    1\n1    2\n2    3\n1차원 ndarray로 만든 DataFrame :\n    col\n0    1\n1    2\n2    3\n"
     ]
    }
   ],
   "source": [
    "# 여러 형태의 데이터들을 DataFrame으로 변환\n",
    "\n",
    "import numpy as np\n",
    "\n",
    "col_name1=['col']\n",
    "list1 = [1, 2, 3]\n",
    "array1 = np.array(list1)\n",
    "print('array1 shape :', array1.shape)\n",
    "\n",
    "# 리스트를 이용해 DataFrame 생성\n",
    "df_list1 = pd.DataFrame(list1, columns=col_name1)\n",
    "print('1차원 리스트로 만든 DataFrame :\\n', df_list1)\n",
    "\n",
    "#넘파이 ndarray를 이용해 DataFrame 생성\n",
    "df_array1 = pd.DataFrame(array1, columns=col_name1)\n",
    "print('1차원 ndarray로 만든 DataFrame :\\n', df_array1)"
   ]
  },
  {
   "cell_type": "code",
   "execution_count": 5,
   "metadata": {},
   "outputs": [
    {
     "output_type": "stream",
     "name": "stdout",
     "text": [
      "array2 shape : (2, 3)\n2차원 리스트로 만든 DataFrame :\n    col1  col2  col3\n0     1     2     3\n1    11    12    13\n2차원 ndarray로 만든 DataFrame :\n    col1  col2  col3\n0     1     2     3\n1    11    12    13\n"
     ]
    }
   ],
   "source": [
    "# 3개의 칼럼명이 필요함\n",
    "col_name2 = ['col1', 'col2', 'col3']\n",
    "\n",
    "# 2행 x 3행 형태의 리스트와 ndarray 생성한 뒤 이를 DataFrame으로 변환\n",
    "list2 = [ [1, 2, 3], [11, 12, 13] ]\n",
    "\n",
    "array2 = np.array(list2)\n",
    "print('array2 shape :', array2.shape)\n",
    "\n",
    "df_list2 = pd.DataFrame(list2, columns=col_name2)\n",
    "print('2차원 list로 만든 DataFrame :\\n', df_list2)\n",
    "\n",
    "df_array2 = pd.DataFrame(array2, columns=col_name2)\n",
    "print('2차원 ndarray로 만든 DataFrame :\\n', df_array2)"
   ]
  },
  {
   "cell_type": "code",
   "execution_count": 6,
   "metadata": {},
   "outputs": [
    {
     "output_type": "stream",
     "name": "stdout",
     "text": [
      "딕셔너리로 만든 DataFrame :\n    col1  col2  col3\n0     1     2     3\n1    11    22    33\n"
     ]
    }
   ],
   "source": [
    "# Key는 문자열 칼럼명으로 매핑, Value는 리스트 형(또는 ndarray) 칼럼 데이터로 매핑\n",
    "dict = { 'col1':[1, 11], 'col2':[2, 22], 'col3':[3, 33] }\n",
    "df_dict = pd.DataFrame(dict)\n",
    "print('딕셔너리로 만든 DataFrame :\\n', df_dict)"
   ]
  },
  {
   "cell_type": "code",
   "execution_count": 11,
   "metadata": {},
   "outputs": [
    {
     "output_type": "stream",
     "name": "stdout",
     "text": [
      "df_dict.values 타입 : <class 'numpy.ndarray'> df_dict.values shape : (2, 3)\n[[ 1  2  3]\n [11 22 33]]\ndf_dict.values.tolist() 타입 : <class 'list'>\n[[1, 2, 3], [11, 22, 33]]\n\ndf_dict.to_list() 타입 : <class 'dict'>\n{'col1': [1, 11], 'col2': [2, 22], 'col3': [3, 33]}\n"
     ]
    }
   ],
   "source": [
    "# DataFrame을 ndarray로 변환\n",
    "array3 = df_dict.values\n",
    "print('df_dict.values 타입 :', type(array3), 'df_dict.values shape :', array3.shape)\n",
    "print(array3)\n",
    "\n",
    "# DataFrame을 리스트로 변환\n",
    "list3 = df_dict.values.tolist()\n",
    "print('df_dict.values.tolist() 타입 :', type(list3))\n",
    "print(list3)\n",
    "\n",
    "# DataFrame을 딕셔너리로 변환\n",
    "dict3 = df_dict.to_dict('list')\n",
    "print('\\ndf_dict.to_list() 타입 :', type(dict3))\n",
    "print(dict3)"
   ]
  },
  {
   "source": [
    "### DataFrame의 칼럼 데이터 세트 생성과 수정"
   ],
   "cell_type": "markdown",
   "metadata": {}
  },
  {
   "cell_type": "code",
   "execution_count": 14,
   "metadata": {},
   "outputs": [
    {
     "output_type": "execute_result",
     "data": {
      "text/plain": [
       "   PassengerId  Survived  Pclass  \\\n",
       "0            1         0       3   \n",
       "1            2         1       1   \n",
       "2            3         1       3   \n",
       "\n",
       "                                                Name     Sex   Age  SibSp  \\\n",
       "0                            Braund, Mr. Owen Harris    male  22.0      1   \n",
       "1  Cumings, Mrs. John Bradley (Florence Briggs Th...  female  38.0      1   \n",
       "2                             Heikkinen, Miss. Laina  female  26.0      0   \n",
       "\n",
       "   Parch            Ticket     Fare Cabin Embarked  Age_0  \n",
       "0      0         A/5 21171   7.2500   NaN        S      0  \n",
       "1      0          PC 17599  71.2833   C85        C      0  \n",
       "2      0  STON/O2. 3101282   7.9250   NaN        S      0  "
      ],
      "text/html": "<div>\n<style scoped>\n    .dataframe tbody tr th:only-of-type {\n        vertical-align: middle;\n    }\n\n    .dataframe tbody tr th {\n        vertical-align: top;\n    }\n\n    .dataframe thead th {\n        text-align: right;\n    }\n</style>\n<table border=\"1\" class=\"dataframe\">\n  <thead>\n    <tr style=\"text-align: right;\">\n      <th></th>\n      <th>PassengerId</th>\n      <th>Survived</th>\n      <th>Pclass</th>\n      <th>Name</th>\n      <th>Sex</th>\n      <th>Age</th>\n      <th>SibSp</th>\n      <th>Parch</th>\n      <th>Ticket</th>\n      <th>Fare</th>\n      <th>Cabin</th>\n      <th>Embarked</th>\n      <th>Age_0</th>\n    </tr>\n  </thead>\n  <tbody>\n    <tr>\n      <th>0</th>\n      <td>1</td>\n      <td>0</td>\n      <td>3</td>\n      <td>Braund, Mr. Owen Harris</td>\n      <td>male</td>\n      <td>22.0</td>\n      <td>1</td>\n      <td>0</td>\n      <td>A/5 21171</td>\n      <td>7.2500</td>\n      <td>NaN</td>\n      <td>S</td>\n      <td>0</td>\n    </tr>\n    <tr>\n      <th>1</th>\n      <td>2</td>\n      <td>1</td>\n      <td>1</td>\n      <td>Cumings, Mrs. John Bradley (Florence Briggs Th...</td>\n      <td>female</td>\n      <td>38.0</td>\n      <td>1</td>\n      <td>0</td>\n      <td>PC 17599</td>\n      <td>71.2833</td>\n      <td>C85</td>\n      <td>C</td>\n      <td>0</td>\n    </tr>\n    <tr>\n      <th>2</th>\n      <td>3</td>\n      <td>1</td>\n      <td>3</td>\n      <td>Heikkinen, Miss. Laina</td>\n      <td>female</td>\n      <td>26.0</td>\n      <td>0</td>\n      <td>0</td>\n      <td>STON/O2. 3101282</td>\n      <td>7.9250</td>\n      <td>NaN</td>\n      <td>S</td>\n      <td>0</td>\n    </tr>\n  </tbody>\n</table>\n</div>"
     },
     "metadata": {},
     "execution_count": 14
    }
   ],
   "source": [
    "# 'Age_0'라는 column 추가 후 일괄적으로 값 0을 할당\n",
    "titanic_df['Age_0'] = 0\n",
    "titanic_df.head(3)"
   ]
  },
  {
   "cell_type": "code",
   "execution_count": 15,
   "metadata": {},
   "outputs": [
    {
     "output_type": "execute_result",
     "data": {
      "text/plain": [
       "   PassengerId  Survived  Pclass  \\\n",
       "0            1         0       3   \n",
       "1            2         1       1   \n",
       "2            3         1       3   \n",
       "\n",
       "                                                Name     Sex   Age  SibSp  \\\n",
       "0                            Braund, Mr. Owen Harris    male  22.0      1   \n",
       "1  Cumings, Mrs. John Bradley (Florence Briggs Th...  female  38.0      1   \n",
       "2                             Heikkinen, Miss. Laina  female  26.0      0   \n",
       "\n",
       "   Parch            Ticket     Fare Cabin Embarked  Age_0  Age_by_10  \\\n",
       "0      0         A/5 21171   7.2500   NaN        S      0      220.0   \n",
       "1      0          PC 17599  71.2833   C85        C      0      380.0   \n",
       "2      0  STON/O2. 3101282   7.9250   NaN        S      0      260.0   \n",
       "\n",
       "   Family_No  \n",
       "0          2  \n",
       "1          2  \n",
       "2          1  "
      ],
      "text/html": "<div>\n<style scoped>\n    .dataframe tbody tr th:only-of-type {\n        vertical-align: middle;\n    }\n\n    .dataframe tbody tr th {\n        vertical-align: top;\n    }\n\n    .dataframe thead th {\n        text-align: right;\n    }\n</style>\n<table border=\"1\" class=\"dataframe\">\n  <thead>\n    <tr style=\"text-align: right;\">\n      <th></th>\n      <th>PassengerId</th>\n      <th>Survived</th>\n      <th>Pclass</th>\n      <th>Name</th>\n      <th>Sex</th>\n      <th>Age</th>\n      <th>SibSp</th>\n      <th>Parch</th>\n      <th>Ticket</th>\n      <th>Fare</th>\n      <th>Cabin</th>\n      <th>Embarked</th>\n      <th>Age_0</th>\n      <th>Age_by_10</th>\n      <th>Family_No</th>\n    </tr>\n  </thead>\n  <tbody>\n    <tr>\n      <th>0</th>\n      <td>1</td>\n      <td>0</td>\n      <td>3</td>\n      <td>Braund, Mr. Owen Harris</td>\n      <td>male</td>\n      <td>22.0</td>\n      <td>1</td>\n      <td>0</td>\n      <td>A/5 21171</td>\n      <td>7.2500</td>\n      <td>NaN</td>\n      <td>S</td>\n      <td>0</td>\n      <td>220.0</td>\n      <td>2</td>\n    </tr>\n    <tr>\n      <th>1</th>\n      <td>2</td>\n      <td>1</td>\n      <td>1</td>\n      <td>Cumings, Mrs. John Bradley (Florence Briggs Th...</td>\n      <td>female</td>\n      <td>38.0</td>\n      <td>1</td>\n      <td>0</td>\n      <td>PC 17599</td>\n      <td>71.2833</td>\n      <td>C85</td>\n      <td>C</td>\n      <td>0</td>\n      <td>380.0</td>\n      <td>2</td>\n    </tr>\n    <tr>\n      <th>2</th>\n      <td>3</td>\n      <td>1</td>\n      <td>3</td>\n      <td>Heikkinen, Miss. Laina</td>\n      <td>female</td>\n      <td>26.0</td>\n      <td>0</td>\n      <td>0</td>\n      <td>STON/O2. 3101282</td>\n      <td>7.9250</td>\n      <td>NaN</td>\n      <td>S</td>\n      <td>0</td>\n      <td>260.0</td>\n      <td>1</td>\n    </tr>\n  </tbody>\n</table>\n</div>"
     },
     "metadata": {},
     "execution_count": 15
    }
   ],
   "source": [
    "# 기존의 컬럼 Series의 데이터를 이용해 'Age_by_10', 'Family_No' 두 개의 컬럼 추가\n",
    "titanic_df['Age_by_10'] = titanic_df['Age'] * 10\n",
    "titanic_df['Family_No'] = titanic_df['SibSp'] + titanic_df['Parch'] + 1\n",
    "titanic_df.head(3)"
   ]
  },
  {
   "cell_type": "code",
   "execution_count": 17,
   "metadata": {},
   "outputs": [
    {
     "output_type": "execute_result",
     "data": {
      "text/plain": [
       "   PassengerId  Survived  Pclass  \\\n",
       "0            1         0       3   \n",
       "1            2         1       1   \n",
       "2            3         1       3   \n",
       "\n",
       "                                                Name     Sex   Age  SibSp  \\\n",
       "0                            Braund, Mr. Owen Harris    male  22.0      1   \n",
       "1  Cumings, Mrs. John Bradley (Florence Briggs Th...  female  38.0      1   \n",
       "2                             Heikkinen, Miss. Laina  female  26.0      0   \n",
       "\n",
       "   Parch            Ticket     Fare Cabin Embarked  Age_0  Age_by_10  \\\n",
       "0      0         A/5 21171   7.2500   NaN        S      0      420.0   \n",
       "1      0          PC 17599  71.2833   C85        C      0      580.0   \n",
       "2      0  STON/O2. 3101282   7.9250   NaN        S      0      460.0   \n",
       "\n",
       "   Family_No  \n",
       "0          2  \n",
       "1          2  \n",
       "2          1  "
      ],
      "text/html": "<div>\n<style scoped>\n    .dataframe tbody tr th:only-of-type {\n        vertical-align: middle;\n    }\n\n    .dataframe tbody tr th {\n        vertical-align: top;\n    }\n\n    .dataframe thead th {\n        text-align: right;\n    }\n</style>\n<table border=\"1\" class=\"dataframe\">\n  <thead>\n    <tr style=\"text-align: right;\">\n      <th></th>\n      <th>PassengerId</th>\n      <th>Survived</th>\n      <th>Pclass</th>\n      <th>Name</th>\n      <th>Sex</th>\n      <th>Age</th>\n      <th>SibSp</th>\n      <th>Parch</th>\n      <th>Ticket</th>\n      <th>Fare</th>\n      <th>Cabin</th>\n      <th>Embarked</th>\n      <th>Age_0</th>\n      <th>Age_by_10</th>\n      <th>Family_No</th>\n    </tr>\n  </thead>\n  <tbody>\n    <tr>\n      <th>0</th>\n      <td>1</td>\n      <td>0</td>\n      <td>3</td>\n      <td>Braund, Mr. Owen Harris</td>\n      <td>male</td>\n      <td>22.0</td>\n      <td>1</td>\n      <td>0</td>\n      <td>A/5 21171</td>\n      <td>7.2500</td>\n      <td>NaN</td>\n      <td>S</td>\n      <td>0</td>\n      <td>420.0</td>\n      <td>2</td>\n    </tr>\n    <tr>\n      <th>1</th>\n      <td>2</td>\n      <td>1</td>\n      <td>1</td>\n      <td>Cumings, Mrs. John Bradley (Florence Briggs Th...</td>\n      <td>female</td>\n      <td>38.0</td>\n      <td>1</td>\n      <td>0</td>\n      <td>PC 17599</td>\n      <td>71.2833</td>\n      <td>C85</td>\n      <td>C</td>\n      <td>0</td>\n      <td>580.0</td>\n      <td>2</td>\n    </tr>\n    <tr>\n      <th>2</th>\n      <td>3</td>\n      <td>1</td>\n      <td>3</td>\n      <td>Heikkinen, Miss. Laina</td>\n      <td>female</td>\n      <td>26.0</td>\n      <td>0</td>\n      <td>0</td>\n      <td>STON/O2. 3101282</td>\n      <td>7.9250</td>\n      <td>NaN</td>\n      <td>S</td>\n      <td>0</td>\n      <td>460.0</td>\n      <td>1</td>\n    </tr>\n  </tbody>\n</table>\n</div>"
     },
     "metadata": {},
     "execution_count": 17
    }
   ],
   "source": [
    "# 기존 컬럼 일괄적으로 업데이트\n",
    "titanic_df['Age_by_10'] = titanic_df['Age_by_10'] + 100\n",
    "titanic_df.head(3)"
   ]
  },
  {
   "source": [
    "### DataFrame 데이터 삭제"
   ],
   "cell_type": "markdown",
   "metadata": {}
  },
  {
   "cell_type": "code",
   "execution_count": 18,
   "metadata": {},
   "outputs": [
    {
     "output_type": "execute_result",
     "data": {
      "text/plain": [
       "   PassengerId  Survived  Pclass  \\\n",
       "0            1         0       3   \n",
       "1            2         1       1   \n",
       "2            3         1       3   \n",
       "\n",
       "                                                Name     Sex   Age  SibSp  \\\n",
       "0                            Braund, Mr. Owen Harris    male  22.0      1   \n",
       "1  Cumings, Mrs. John Bradley (Florence Briggs Th...  female  38.0      1   \n",
       "2                             Heikkinen, Miss. Laina  female  26.0      0   \n",
       "\n",
       "   Parch            Ticket     Fare Cabin Embarked  Age_by_10  Family_No  \n",
       "0      0         A/5 21171   7.2500   NaN        S      420.0          2  \n",
       "1      0          PC 17599  71.2833   C85        C      580.0          2  \n",
       "2      0  STON/O2. 3101282   7.9250   NaN        S      460.0          1  "
      ],
      "text/html": "<div>\n<style scoped>\n    .dataframe tbody tr th:only-of-type {\n        vertical-align: middle;\n    }\n\n    .dataframe tbody tr th {\n        vertical-align: top;\n    }\n\n    .dataframe thead th {\n        text-align: right;\n    }\n</style>\n<table border=\"1\" class=\"dataframe\">\n  <thead>\n    <tr style=\"text-align: right;\">\n      <th></th>\n      <th>PassengerId</th>\n      <th>Survived</th>\n      <th>Pclass</th>\n      <th>Name</th>\n      <th>Sex</th>\n      <th>Age</th>\n      <th>SibSp</th>\n      <th>Parch</th>\n      <th>Ticket</th>\n      <th>Fare</th>\n      <th>Cabin</th>\n      <th>Embarked</th>\n      <th>Age_by_10</th>\n      <th>Family_No</th>\n    </tr>\n  </thead>\n  <tbody>\n    <tr>\n      <th>0</th>\n      <td>1</td>\n      <td>0</td>\n      <td>3</td>\n      <td>Braund, Mr. Owen Harris</td>\n      <td>male</td>\n      <td>22.0</td>\n      <td>1</td>\n      <td>0</td>\n      <td>A/5 21171</td>\n      <td>7.2500</td>\n      <td>NaN</td>\n      <td>S</td>\n      <td>420.0</td>\n      <td>2</td>\n    </tr>\n    <tr>\n      <th>1</th>\n      <td>2</td>\n      <td>1</td>\n      <td>1</td>\n      <td>Cumings, Mrs. John Bradley (Florence Briggs Th...</td>\n      <td>female</td>\n      <td>38.0</td>\n      <td>1</td>\n      <td>0</td>\n      <td>PC 17599</td>\n      <td>71.2833</td>\n      <td>C85</td>\n      <td>C</td>\n      <td>580.0</td>\n      <td>2</td>\n    </tr>\n    <tr>\n      <th>2</th>\n      <td>3</td>\n      <td>1</td>\n      <td>3</td>\n      <td>Heikkinen, Miss. Laina</td>\n      <td>female</td>\n      <td>26.0</td>\n      <td>0</td>\n      <td>0</td>\n      <td>STON/O2. 3101282</td>\n      <td>7.9250</td>\n      <td>NaN</td>\n      <td>S</td>\n      <td>460.0</td>\n      <td>1</td>\n    </tr>\n  </tbody>\n</table>\n</div>"
     },
     "metadata": {},
     "execution_count": 18
    }
   ],
   "source": [
    "# drop() 함수로 컬럼 제거\n",
    "# axis=1 : 컬럼 방향 축, axis=0 : 로우 방향 축(default)\n",
    "titanic_drop_df = titanic_df.drop('Age_0', axis=1)\n",
    "titanic_drop_df.head(3)"
   ]
  },
  {
   "cell_type": "code",
   "execution_count": 19,
   "metadata": {},
   "outputs": [
    {
     "output_type": "stream",
     "name": "stdout",
     "text": [
      "inplace=True로 drop 후 반환된 값 : None\n"
     ]
    },
    {
     "output_type": "execute_result",
     "data": {
      "text/plain": [
       "   PassengerId  Survived  Pclass  \\\n",
       "0            1         0       3   \n",
       "1            2         1       1   \n",
       "2            3         1       3   \n",
       "\n",
       "                                                Name     Sex   Age  SibSp  \\\n",
       "0                            Braund, Mr. Owen Harris    male  22.0      1   \n",
       "1  Cumings, Mrs. John Bradley (Florence Briggs Th...  female  38.0      1   \n",
       "2                             Heikkinen, Miss. Laina  female  26.0      0   \n",
       "\n",
       "   Parch            Ticket     Fare Cabin Embarked  \n",
       "0      0         A/5 21171   7.2500   NaN        S  \n",
       "1      0          PC 17599  71.2833   C85        C  \n",
       "2      0  STON/O2. 3101282   7.9250   NaN        S  "
      ],
      "text/html": "<div>\n<style scoped>\n    .dataframe tbody tr th:only-of-type {\n        vertical-align: middle;\n    }\n\n    .dataframe tbody tr th {\n        vertical-align: top;\n    }\n\n    .dataframe thead th {\n        text-align: right;\n    }\n</style>\n<table border=\"1\" class=\"dataframe\">\n  <thead>\n    <tr style=\"text-align: right;\">\n      <th></th>\n      <th>PassengerId</th>\n      <th>Survived</th>\n      <th>Pclass</th>\n      <th>Name</th>\n      <th>Sex</th>\n      <th>Age</th>\n      <th>SibSp</th>\n      <th>Parch</th>\n      <th>Ticket</th>\n      <th>Fare</th>\n      <th>Cabin</th>\n      <th>Embarked</th>\n    </tr>\n  </thead>\n  <tbody>\n    <tr>\n      <th>0</th>\n      <td>1</td>\n      <td>0</td>\n      <td>3</td>\n      <td>Braund, Mr. Owen Harris</td>\n      <td>male</td>\n      <td>22.0</td>\n      <td>1</td>\n      <td>0</td>\n      <td>A/5 21171</td>\n      <td>7.2500</td>\n      <td>NaN</td>\n      <td>S</td>\n    </tr>\n    <tr>\n      <th>1</th>\n      <td>2</td>\n      <td>1</td>\n      <td>1</td>\n      <td>Cumings, Mrs. John Bradley (Florence Briggs Th...</td>\n      <td>female</td>\n      <td>38.0</td>\n      <td>1</td>\n      <td>0</td>\n      <td>PC 17599</td>\n      <td>71.2833</td>\n      <td>C85</td>\n      <td>C</td>\n    </tr>\n    <tr>\n      <th>2</th>\n      <td>3</td>\n      <td>1</td>\n      <td>3</td>\n      <td>Heikkinen, Miss. Laina</td>\n      <td>female</td>\n      <td>26.0</td>\n      <td>0</td>\n      <td>0</td>\n      <td>STON/O2. 3101282</td>\n      <td>7.9250</td>\n      <td>NaN</td>\n      <td>S</td>\n    </tr>\n  </tbody>\n</table>\n</div>"
     },
     "metadata": {},
     "execution_count": 19
    }
   ],
   "source": [
    "# drop() 함수로 컬럼 제거\n",
    "# inplace=True : 자신의 데이터 삭제, inplace=False : 자신의 데이터는 삭제하지 않고 삭제된 결과 반환\n",
    "drop_result = titanic_df.drop(['Age_0', 'Age_by_10', 'Family_No'], axis=1, inplace=True)\n",
    "print('inplace=True로 drop 후 반환된 값 :', drop_result)\n",
    "titanic_df.head(3)"
   ]
  },
  {
   "cell_type": "code",
   "execution_count": 20,
   "metadata": {},
   "outputs": [
    {
     "output_type": "stream",
     "name": "stdout",
     "text": [
      "#### before axis 0 drop ####\n   PassengerId  Survived  Pclass            Name     Sex   Age  SibSp  Parch          Ticket     Fare Cabin Embarked\n0            1         0       3  Braund, Mr....    male  22.0      1      0       A/5 21171   7.2500   NaN        S\n1            2         1       1  Cumings, Mr...  female  38.0      1      0        PC 17599  71.2833   C85        C\n2            3         1       3  Heikkinen, ...  female  26.0      0      0  STON/O2. 31...   7.9250   NaN        S\n#### atfer axis 0 drop ####\n   PassengerId  Survived  Pclass            Name     Sex   Age  SibSp  Parch  Ticket     Fare Cabin Embarked\n3            4         1       1  Futrelle, M...  female  35.0      1      0  113803  53.1000  C123        S\n4            5         0       3  Allen, Mr. ...    male  35.0      0      0  373450   8.0500   NaN        S\n5            6         0       3  Moran, Mr. ...    male   NaN      0      0  330877   8.4583   NaN        Q\n"
     ]
    }
   ],
   "source": [
    "# 출력창 설정\n",
    "pd.set_option('display.width', 1000)\n",
    "pd.set_option('display.max_colwidth', 15)\n",
    "\n",
    "# axis=1 : 컬럼 방향 축, axis=0 : 로우 방향 축(default)\n",
    "print('#### before axis 0 drop ####')\n",
    "print( titanic_df.head(3) )\n",
    "titanic_df.drop([0, 1, 2], axis=0, inplace=True)\n",
    "\n",
    "print('#### atfer axis 0 drop ####')\n",
    "print( titanic_df.head(3) )"
   ]
  },
  {
   "source": [
    "### Index 객체"
   ],
   "cell_type": "markdown",
   "metadata": {}
  },
  {
   "cell_type": "code",
   "execution_count": 21,
   "metadata": {},
   "outputs": [
    {
     "output_type": "stream",
     "name": "stdout",
     "text": [
      "RangeIndex(start=0, stop=891, step=1)\nIndex 객체 array 값 :\n [  0   1   2   3   4   5   6   7   8   9  10  11  12  13  14  15  16  17\n  18  19  20  21  22  23  24  25  26  27  28  29  30  31  32  33  34  35\n  36  37  38  39  40  41  42  43  44  45  46  47  48  49  50  51  52  53\n  54  55  56  57  58  59  60  61  62  63  64  65  66  67  68  69  70  71\n  72  73  74  75  76  77  78  79  80  81  82  83  84  85  86  87  88  89\n  90  91  92  93  94  95  96  97  98  99 100 101 102 103 104 105 106 107\n 108 109 110 111 112 113 114 115 116 117 118 119 120 121 122 123 124 125\n 126 127 128 129 130 131 132 133 134 135 136 137 138 139 140 141 142 143\n 144 145 146 147 148 149 150 151 152 153 154 155 156 157 158 159 160 161\n 162 163 164 165 166 167 168 169 170 171 172 173 174 175 176 177 178 179\n 180 181 182 183 184 185 186 187 188 189 190 191 192 193 194 195 196 197\n 198 199 200 201 202 203 204 205 206 207 208 209 210 211 212 213 214 215\n 216 217 218 219 220 221 222 223 224 225 226 227 228 229 230 231 232 233\n 234 235 236 237 238 239 240 241 242 243 244 245 246 247 248 249 250 251\n 252 253 254 255 256 257 258 259 260 261 262 263 264 265 266 267 268 269\n 270 271 272 273 274 275 276 277 278 279 280 281 282 283 284 285 286 287\n 288 289 290 291 292 293 294 295 296 297 298 299 300 301 302 303 304 305\n 306 307 308 309 310 311 312 313 314 315 316 317 318 319 320 321 322 323\n 324 325 326 327 328 329 330 331 332 333 334 335 336 337 338 339 340 341\n 342 343 344 345 346 347 348 349 350 351 352 353 354 355 356 357 358 359\n 360 361 362 363 364 365 366 367 368 369 370 371 372 373 374 375 376 377\n 378 379 380 381 382 383 384 385 386 387 388 389 390 391 392 393 394 395\n 396 397 398 399 400 401 402 403 404 405 406 407 408 409 410 411 412 413\n 414 415 416 417 418 419 420 421 422 423 424 425 426 427 428 429 430 431\n 432 433 434 435 436 437 438 439 440 441 442 443 444 445 446 447 448 449\n 450 451 452 453 454 455 456 457 458 459 460 461 462 463 464 465 466 467\n 468 469 470 471 472 473 474 475 476 477 478 479 480 481 482 483 484 485\n 486 487 488 489 490 491 492 493 494 495 496 497 498 499 500 501 502 503\n 504 505 506 507 508 509 510 511 512 513 514 515 516 517 518 519 520 521\n 522 523 524 525 526 527 528 529 530 531 532 533 534 535 536 537 538 539\n 540 541 542 543 544 545 546 547 548 549 550 551 552 553 554 555 556 557\n 558 559 560 561 562 563 564 565 566 567 568 569 570 571 572 573 574 575\n 576 577 578 579 580 581 582 583 584 585 586 587 588 589 590 591 592 593\n 594 595 596 597 598 599 600 601 602 603 604 605 606 607 608 609 610 611\n 612 613 614 615 616 617 618 619 620 621 622 623 624 625 626 627 628 629\n 630 631 632 633 634 635 636 637 638 639 640 641 642 643 644 645 646 647\n 648 649 650 651 652 653 654 655 656 657 658 659 660 661 662 663 664 665\n 666 667 668 669 670 671 672 673 674 675 676 677 678 679 680 681 682 683\n 684 685 686 687 688 689 690 691 692 693 694 695 696 697 698 699 700 701\n 702 703 704 705 706 707 708 709 710 711 712 713 714 715 716 717 718 719\n 720 721 722 723 724 725 726 727 728 729 730 731 732 733 734 735 736 737\n 738 739 740 741 742 743 744 745 746 747 748 749 750 751 752 753 754 755\n 756 757 758 759 760 761 762 763 764 765 766 767 768 769 770 771 772 773\n 774 775 776 777 778 779 780 781 782 783 784 785 786 787 788 789 790 791\n 792 793 794 795 796 797 798 799 800 801 802 803 804 805 806 807 808 809\n 810 811 812 813 814 815 816 817 818 819 820 821 822 823 824 825 826 827\n 828 829 830 831 832 833 834 835 836 837 838 839 840 841 842 843 844 845\n 846 847 848 849 850 851 852 853 854 855 856 857 858 859 860 861 862 863\n 864 865 866 867 868 869 870 871 872 873 874 875 876 877 878 879 880 881\n 882 883 884 885 886 887 888 889 890]\n"
     ]
    }
   ],
   "source": [
    "# 원본 파일 다시 로딩\n",
    "titanic_df = pd.read_csv('data-files/titanic_train.csv')\n",
    "\n",
    "# Index 객체 추출\n",
    "indexes = titanic_df.index\n",
    "print(indexes)\n",
    "\n",
    "# Index 객체를 실제 값 array로 변환\n",
    "print('Index 객체 array 값 :\\n', indexes.values)"
   ]
  },
  {
   "cell_type": "code",
   "execution_count": 22,
   "metadata": {},
   "outputs": [
    {
     "output_type": "stream",
     "name": "stdout",
     "text": [
      "<class 'numpy.ndarray'>\n(891,)\n[0 1 2 3 4]\n[0 1 2 3 4]\n6\n"
     ]
    }
   ],
   "source": [
    "# 1차원 array의 Index 객체의 단일 값 반환 및 슬라이싱\n",
    "print(type(indexes.values))\n",
    "print(indexes.values.shape)\n",
    "print(indexes[:5].values)\n",
    "print(indexes.values[:5])\n",
    "print(indexes[6])"
   ]
  },
  {
   "cell_type": "code",
   "execution_count": 23,
   "metadata": {},
   "outputs": [
    {
     "output_type": "stream",
     "name": "stdout",
     "text": [
      "Fair Series max 값 : 512.3292\nFair Series sum 값 : 28693.9493\nsum() Fair Series : 28693.949299999967\nFair Series + 3 :\n 0    10.2500\n1    74.2833\n2    10.9250\nName: Fare, dtype: float64\n"
     ]
    }
   ],
   "source": [
    "# Series 객체에서 연산 함수를 적용할 때 Index는 연산에서 제외\n",
    "series_fair = titanic_df['Fare']\n",
    "print('Fair Series max 값 :', series_fair.max())\n",
    "print('Fair Series sum 값 :', series_fair.sum())\n",
    "print('sum() Fair Series :', sum(series_fair))\n",
    "print('Fair Series + 3 :\\n', (series_fair + 3).head(3))"
   ]
  },
  {
   "cell_type": "code",
   "execution_count": null,
   "metadata": {},
   "outputs": [],
   "source": []
  }
 ]
}