{
 "metadata": {
  "language_info": {
   "codemirror_mode": {
    "name": "ipython",
    "version": 3
   },
   "file_extension": ".py",
   "mimetype": "text/x-python",
   "name": "python",
   "nbconvert_exporter": "python",
   "pygments_lexer": "ipython3",
   "version": "3.7.9-final"
  },
  "orig_nbformat": 2,
  "kernelspec": {
   "name": "python3",
   "display_name": "Python 3.7.9 64-bit (conda)",
   "metadata": {
    "interpreter": {
     "hash": "69212f882d919239973a505f79be5f487d0ea1712581324f4ed2b107edf27050"
    }
   }
  }
 },
 "nbformat": 4,
 "nbformat_minor": 2,
 "cells": [
  {
   "cell_type": "code",
   "execution_count": 1,
   "metadata": {},
   "outputs": [],
   "source": [
    "# !pip install numpy\n",
    "\n",
    "import numpy as np"
   ]
  },
  {
   "source": [
    "### 넘파이 ndarray 개요"
   ],
   "cell_type": "markdown",
   "metadata": {}
  },
  {
   "cell_type": "code",
   "execution_count": 2,
   "metadata": {},
   "outputs": [
    {
     "output_type": "stream",
     "name": "stdout",
     "text": [
      "array1 type: <class 'numpy.ndarray'>\narray1 array 형태: (3,)\narray2 type: <class 'numpy.ndarray'>\narray2 array 형태 (2, 3)\narray3 type: <class 'numpy.ndarray'>\narray3 array 형태: (1, 3)\n"
     ]
    }
   ],
   "source": [
    "# numpy의 기반 데이터 타입 ndarray형의 다차원 배열 생성\n",
    "\n",
    "# 1차원 배열\n",
    "array1 = np.array([1, 2, 3])\n",
    "print('array1 type:', type(array1))\n",
    "print('array1 array 형태:', array1.shape)\n",
    "\n",
    "# 2차원 배열\n",
    "array2 = np.array([[1, 2, 3],\n",
    "                   [2, 3, 4]])\n",
    "print('array2 type:', type(array2))\n",
    "print('array2 array 형태', array2.shape)\n",
    "\n",
    "# 2차원 배열\n",
    "array3 = np.array([[1, 2, 3]])\n",
    "print('array3 type:', type(array3))\n",
    "print('array3 array 형태:', array3.shape)"
   ]
  },
  {
   "cell_type": "code",
   "execution_count": 3,
   "metadata": {},
   "outputs": [
    {
     "output_type": "stream",
     "name": "stdout",
     "text": [
      "array1: 1차원, array2: 2차원, array1:  2차원\n"
     ]
    }
   ],
   "source": [
    "# 각 array 차원을 ndarray.ndim을 이용해 확인\n",
    "\n",
    "print('array1: {:0}차원, array2: {:1}차원, array1: {:2}차원'.format(array1.ndim, array2.ndim, array3.ndim))"
   ]
  },
  {
   "source": [
    "### ndarray의 데이터 타입"
   ],
   "cell_type": "markdown",
   "metadata": {}
  },
  {
   "cell_type": "code",
   "execution_count": 4,
   "metadata": {},
   "outputs": [
    {
     "output_type": "stream",
     "name": "stdout",
     "text": [
      "<class 'list'>\n<class 'numpy.ndarray'>\n[1 2 3] int32\n"
     ]
    }
   ],
   "source": [
    "# ndarray의 데이터 타입 확인 (int형)\n",
    "list1 = [1, 2, 3]\n",
    "print(type(list1))\n",
    "\n",
    "# list의 array 변환\n",
    "array1 = np.array(list1)\n",
    "print(type(array1))\n",
    "print(array1, array1.dtype)"
   ]
  },
  {
   "cell_type": "code",
   "execution_count": 5,
   "metadata": {},
   "outputs": [
    {
     "output_type": "stream",
     "name": "stdout",
     "text": [
      "['1' '2' 'test'] <U11\n",
      "[1. 2. 3.] float64\n"
     ]
    }
   ],
   "source": [
    "# ndarray의 데이터 타입 확인 (Unicode, float형)\n",
    "# 여러 데이터 타입을 가지고 있는 list의 array 변환\n",
    "list2 = [1, 2, 'test']\n",
    "array2 = np.array(list2)\n",
    "print(array2, array2.dtype)\n",
    "\n",
    "list3 = [1, 2, 3.0]\n",
    "array3 = np.array(list3)\n",
    "print(array3, array3.dtype)"
   ]
  },
  {
   "cell_type": "code",
   "execution_count": 6,
   "metadata": {},
   "outputs": [
    {
     "output_type": "stream",
     "name": "stdout",
     "text": [
      "[1. 2. 3.] float64\n[1 2 3] int32\n[1 2 3] int32\n"
     ]
    }
   ],
   "source": [
    "# astype() 함수를 사용한 형변환\n",
    "array_int = np.array([1, 2, 3])\n",
    "array_float = array_int.astype('float64')\n",
    "print(array_float, array_float.dtype)\n",
    "\n",
    "array_int1 = array_float.astype('int32')\n",
    "print(array_int1, array_int1.dtype)\n",
    "\n",
    "array_float1 = np.array([1.1, 2.1, 3.1])\n",
    "array_int2 = array_float1.astype('int32')\n",
    "print(array_int2, array_int2.dtype)"
   ]
  },
  {
   "source": [
    "### arange, zeros, ones 사용"
   ],
   "cell_type": "markdown",
   "metadata": {}
  },
  {
   "cell_type": "code",
   "execution_count": 7,
   "metadata": {},
   "outputs": [
    {
     "output_type": "stream",
     "name": "stdout",
     "text": [
      "[0 1 2 3 4 5 6 7 8 9]\nint32 (10,)\n"
     ]
    }
   ],
   "source": [
    "# arange() : 0부터 ( 함수 인자 값 - 1 )까지의 값을 순차적으로 ndarray의 데이터 값으로 반환 (== range() 함수)\n",
    "sequence_array = np.arange(10)\n",
    "print(sequence_array)\n",
    "print(sequence_array.dtype, sequence_array.shape)"
   ]
  },
  {
   "cell_type": "code",
   "execution_count": 8,
   "metadata": {},
   "outputs": [
    {
     "output_type": "stream",
     "name": "stdout",
     "text": [
      "[[0 0]\n [0 0]\n [0 0]]\nint32 (3, 2)\n[[1. 1.]\n [1. 1.]\n [1. 1.]]\nfloat64 (3, 2)\n"
     ]
    }
   ],
   "source": [
    "# zeros() : 튜플 형태의 함수 인자 만큼의 모든 값을 0으로 채운 ndarray를 반환, dtype을 정의하지 않으면 default로 float64로 반환\n",
    "zero_array = np.zeros((3, 2), dtype='int32')\n",
    "print(zero_array)\n",
    "print(zero_array.dtype, zero_array.shape)\n",
    "\n",
    "# ones() : 튜플 형태의 함수 인자만큼의 모든 값을 1으로 채운 ndarray를 반환, dtype을 정의하지 않으면 default로 float64로 반환\n",
    "one_array = np.ones((3, 2))\n",
    "print(one_array)\n",
    "print(one_array.dtype, one_array.shape)"
   ]
  },
  {
   "source": [
    "### ndarray의 차원과 크기를 변경하는 reshape()"
   ],
   "cell_type": "markdown",
   "metadata": {}
  },
  {
   "cell_type": "code",
   "execution_count": 9,
   "metadata": {},
   "outputs": [
    {
     "output_type": "stream",
     "name": "stdout",
     "text": [
      "array1:\n [0 1 2 3 4 5 6 7 8 9]\narray2:\n [[0 1 2 3 4]\n [5 6 7 8 9]]\narray3:\n [[0 1]\n [2 3]\n [4 5]\n [6 7]\n [8 9]]\n"
     ]
    }
   ],
   "source": [
    "# reshape() : 함수 인자로 전달된 특정 차원 및 크기의 ndarray로 반환\n",
    "# 변환을 원하는 크기에 맞는 정확한 함수 인자를 전달하지 않으면 오류 발생\n",
    "\n",
    "array1 = np.arange(10)\n",
    "print('array1:\\n', array1)\n",
    "\n",
    "array2 = array1.reshape(2, 5)\n",
    "print('array2:\\n', array2)\n",
    "\n",
    "array3 = array1.reshape(5, 2)\n",
    "print('array3:\\n', array3)"
   ]
  },
  {
   "cell_type": "code",
   "execution_count": 10,
   "metadata": {},
   "outputs": [
    {
     "output_type": "stream",
     "name": "stdout",
     "text": [
      "[0 1 2 3 4 5 6 7 8 9]\narray2 shape: (2, 5)\narray3 shape: (5, 2)\n"
     ]
    }
   ],
   "source": [
    "# reshape()의 함수 인자로 -1을 전달하면 다른 함수 인자를 고정하고 그에 맞는 row나 column을 자동으로 새롭게 생성된 ndarray를 반환\n",
    "\n",
    "array1 = np.arange(10)\n",
    "print(array1)\n",
    "\n",
    "array2 = array1.reshape(-1, 5)\n",
    "print('array2 shape:', array2.shape)\n",
    "\n",
    "array3 = array1.reshape(5, -1)\n",
    "print('array3 shape:', array3.shape)"
   ]
  },
  {
   "cell_type": "code",
   "execution_count": 11,
   "metadata": {},
   "outputs": [
    {
     "output_type": "stream",
     "name": "stdout",
     "text": [
      "array3d:\n [[[0, 1], [2, 3]], [[4, 5], [6, 7]]]\narray5:\n [[0], [1], [2], [3], [4], [5], [6], [7]]\narray5 shape: (8, 1)\narray6:\n [[0], [1], [2], [3], [4], [5], [6], [7]]\narray6 shape: (8, 1)\n"
     ]
    }
   ],
   "source": [
    "# 다차원 ndarray 변환\n",
    "\n",
    "array1 = np.arange(8)\n",
    "array3d = array1.reshape(2, 2, 2)\n",
    "print('array3d:\\n', array3d.tolist())\n",
    "\n",
    "# 3차원 ndarray를 2차원 ndarray로 변환\n",
    "array5 = array3d.reshape(-1, 1)\n",
    "print('array5:\\n', array5.tolist())\n",
    "print('array5 shape:', array5.shape)\n",
    "\n",
    "# 1차원 ndarray를 2차원 ndarray로 변환\n",
    "array6 = array1.reshape(-1, 1)\n",
    "print('array6:\\n', array6.tolist())\n",
    "print('array6 shape:', array6.shape)"
   ]
  },
  {
   "source": [
    "### ndarray의 데이트 세트 선택 Indexing"
   ],
   "cell_type": "markdown",
   "metadata": {}
  },
  {
   "cell_type": "code",
   "execution_count": 12,
   "metadata": {},
   "outputs": [
    {
     "output_type": "stream",
     "name": "stdout",
     "text": [
      "array1: [1 2 3 4 5 6 7 8 9]\nvalue: 3\n<class 'numpy.int32'>\n"
     ]
    }
   ],
   "source": [
    "# 1부터 9까지의 1차원 ndarray 생성\n",
    "array1 = np.arange(start=1, stop=10)\n",
    "print('array1:', array1)\n",
    "\n",
    "# index는 0부터 시작하므로 array1[2]는 3번째 index 위치의 데이터 값을 의미\n",
    "value = array1[2]\n",
    "print('value:', value)\n",
    "print(type(value))"
   ]
  },
  {
   "cell_type": "code",
   "execution_count": 13,
   "metadata": {},
   "outputs": [
    {
     "output_type": "stream",
     "name": "stdout",
     "text": [
      "array1: [9 2 3 4 5 6 7 8 0]\n"
     ]
    }
   ],
   "source": [
    "# 단일 index 사용\n",
    "array1[0] = 9\n",
    "array1[8] = 0\n",
    "print('array1:', array1)"
   ]
  },
  {
   "cell_type": "code",
   "execution_count": 14,
   "metadata": {},
   "outputs": [
    {
     "output_type": "stream",
     "name": "stdout",
     "text": [
      "[[1 2 3]\n [4 5 6]\n [7 8 9]]\n(row=0, col=0) index 가리키는 값: 1\n(row=0, col=1) index 가리키는 값: 2\n(row=1, col=0) index 가리키는 값: 4\n(row=2, col=2) index 가리키는 값: 9\n"
     ]
    }
   ],
   "source": [
    "# 2차원 ndarray에서의 index 사용\n",
    "\n",
    "array1d = np.arange(start=1, stop=10)\n",
    "array2d = array1d.reshape(3, 3)\n",
    "print(array2d)\n",
    "\n",
    "print('(row=0, col=0) index 가리키는 값:', array2d[0, 0])\n",
    "print('(row=0, col=1) index 가리키는 값:', array2d[0, 1])\n",
    "print('(row=1, col=0) index 가리키는 값:', array2d[1, 0])\n",
    "print('(row=2, col=2) index 가리키는 값:', array2d[2, 2])"
   ]
  },
  {
   "cell_type": "code",
   "execution_count": 15,
   "metadata": {},
   "outputs": [
    {
     "output_type": "stream",
     "name": "stdout",
     "text": [
      "[1 2 3]\n<class 'numpy.ndarray'>\n"
     ]
    }
   ],
   "source": [
    "# 인덱스 슬라이싱 사용( Index Slicing )\n",
    "array1 = np.arange(start=1, stop=10)\n",
    "array3 = array1[0:3]\n",
    "print(array3)\n",
    "print(type(array3))"
   ]
  },
  {
   "cell_type": "code",
   "execution_count": 16,
   "metadata": {},
   "outputs": [
    {
     "output_type": "stream",
     "name": "stdout",
     "text": [
      "[1 2 3]\n[4 5 6 7 8 9]\n[1 2 3 4 5 6 7 8 9]\n"
     ]
    }
   ],
   "source": [
    "# 슬라이싱에서 시작, 종료 인덱스 생략 사용\n",
    "\n",
    "array1 = np.arange(start=1, stop=10)\n",
    "array4 = array1[:3]\n",
    "print(array4)\n",
    "\n",
    "array5 = array1[3:]\n",
    "print(array5)\n",
    "\n",
    "array6 = array1[:]\n",
    "print(array6)"
   ]
  },
  {
   "cell_type": "code",
   "execution_count": 17,
   "metadata": {},
   "outputs": [
    {
     "output_type": "stream",
     "name": "stdout",
     "text": [
      "array2d:\n [[1 2 3]\n [4 5 6]\n [7 8 9]]\narray2d[0:2, 0:2] \n [[1 2]\n [4 5]]\narray2d[1:3, 0:3] \n [[4 5 6]\n [7 8 9]]\narray2d[1:3, :] \n [[4 5 6]\n [7 8 9]]\narray2d[:, :] \n [[1 2 3]\n [4 5 6]\n [7 8 9]]\narray2d[:2, 1:] \n [[2 3]\n [5 6]]\narray2d[:2, 0] \n [1 4]\n"
     ]
    }
   ],
   "source": [
    "# 2차원 ndarray에서의 슬라이싱\n",
    "\n",
    "array1d = np.arange(start=1, stop=10)\n",
    "array2d = array1d.reshape(3, 3)\n",
    "print('array2d:\\n', array2d)\n",
    "\n",
    "print('array2d[0:2, 0:2] \\n', array2d[0:2, 0:2])\n",
    "print('array2d[1:3, 0:3] \\n', array2d[1:3, 0:3])\n",
    "print('array2d[1:3, :] \\n', array2d[1:3, :])\n",
    "print('array2d[:, :] \\n', array2d[:, :])\n",
    "print('array2d[:2, 1:] \\n', array2d[:2, 1:])\n",
    "print('array2d[:2, 0] \\n', array2d[:2, 0])"
   ]
  },
  {
   "cell_type": "code",
   "execution_count": 18,
   "metadata": {},
   "outputs": [
    {
     "output_type": "stream",
     "name": "stdout",
     "text": [
      "array2d[[0, 1], 2] => [3, 6]\narray2d[[0, 1], 0:2] => [[1, 2], [4, 5]]\narray2d[[0, 1]] => [[1, 2, 3], [4, 5, 6]]\n"
     ]
    }
   ],
   "source": [
    "# 팬시 인덱싱 : list나 ndarray로 index 집합을 지정하면 해당되는 ndarray를 반환하는 인덱싱 방식\n",
    "\n",
    "array1d = np.arange(start=1, stop=10)\n",
    "array2d = array1d.reshape(3, 3)\n",
    "\n",
    "array3 = array2d[[0, 1], 2]\n",
    "print('array2d[[0, 1], 2] =>', array3.tolist())\n",
    "\n",
    "array4 = array2d[[0, 1], 0:2]\n",
    "print('array2d[[0, 1], 0:2] =>', array4.tolist())\n",
    "\n",
    "array5 = array2d[[0, 1]]\n",
    "print('array2d[[0, 1]] =>', array5.tolist())"
   ]
  },
  {
   "cell_type": "code",
   "execution_count": 19,
   "metadata": {},
   "outputs": [
    {
     "output_type": "stream",
     "name": "stdout",
     "text": [
      "array1d > 5 불린 인덱싱 결과 값 : [6 7 8 9]\n[False False False False False  True  True  True  True]\n불린 인덱스로 필터링 결과: [6 7 8 9]\n일반 인덱스로 필터링 결과 : [6 7 8 9]\n"
     ]
    }
   ],
   "source": [
    "# 불린 인덱싱 : 조건 필터링과 검색을 동시에 사용하는 인덱싱 방식\n",
    "array1d = np.arange(start=1, stop=10)\n",
    "\n",
    "# [] 안에 array1d > 5 Boolean indexing을 적용\n",
    "array3 = array1d[array1d > 5]\n",
    "print('array1d > 5 불린 인덱싱 결과 값 :', array3)\n",
    "\n",
    "# 1. ndarray 객체에 조건식 할당\n",
    "print( array1d > 5 )\n",
    "\n",
    "# 2. boolean index 필터링 결과\n",
    "boolean_indexes = np.array([False, False, False, False, False, True, True, True, True])\n",
    "array3 = array1d[boolean_indexes]\n",
    "print('불린 인덱스로 필터링 결과:', array3)\n",
    "\n",
    "# 3. 일반 index 필터링 결과\n",
    "indexes = np.array([5, 6, 7, 8])\n",
    "array4 = array1d[indexes]\n",
    "print('일반 인덱스로 필터링 결과 :', array4)"
   ]
  },
  {
   "source": [
    "### sort()와 argsort()"
   ],
   "cell_type": "markdown",
   "metadata": {}
  },
  {
   "cell_type": "code",
   "execution_count": 20,
   "metadata": {},
   "outputs": [
    {
     "output_type": "stream",
     "name": "stdout",
     "text": [
      "원본 행렬 : [3 1 9 5]\nnp.sort() 호출 후 반환된 정렬 행렬 :  [1 3 5 9]\nnp.sort() 호출 후 원본 행렬 : [3 1 9 5]\norg_array.sort() 호출 후 반환된 행렬 : None\norg_array.sort() 호출 후 원본 행렬 : [1 3 5 9]\n"
     ]
    }
   ],
   "source": [
    "# np.sort()와 ndarray.sort()의 차이\n",
    "\n",
    "org_array = np.array([3, 1, 9, 5])\n",
    "print('원본 행렬 :', org_array)\n",
    "\n",
    "# np.sort()로 정렬, 원 행렬 유지 후 정렬된 행렬 반환\n",
    "sort_array1 = np.sort(org_array)\n",
    "print('np.sort() 호출 후 반환된 정렬 행렬 : ', sort_array1)\n",
    "print('np.sort() 호출 후 원본 행렬 :', org_array)\n",
    "\n",
    "# ndarray.sort()로 정렬, 원 행렬 자체를 정렬, 반환 값은 None\n",
    "sort_array2 = org_array.sort()\n",
    "print('org_array.sort() 호출 후 반환된 행렬 :', sort_array2)\n",
    "print('org_array.sort() 호출 후 원본 행렬 :', org_array)"
   ]
  },
  {
   "cell_type": "code",
   "execution_count": 21,
   "metadata": {},
   "outputs": [
    {
     "output_type": "stream",
     "name": "stdout",
     "text": [
      "내림차순으로 정렬 : [9 5 3 1]\n"
     ]
    }
   ],
   "source": [
    "# sort() 함수의 내림차순 정렬\n",
    "sort_array1_desc = np.sort(org_array)[::-1]\n",
    "print('내림차순으로 정렬 :', sort_array1_desc)"
   ]
  },
  {
   "cell_type": "code",
   "execution_count": 22,
   "metadata": {},
   "outputs": [
    {
     "output_type": "stream",
     "name": "stdout",
     "text": [
      "로우 방향으로 정렬 :\n [[ 7  1]\n [ 8 12]]\n칼럼 방향으로 정렬 :\n [[ 8 12]\n [ 1  7]]\n"
     ]
    }
   ],
   "source": [
    "# 2차원에서의 axis 축 값 설정을 통한 정렬\n",
    "\n",
    "array2d = np.array([[8, 12], [7, 1]])\n",
    "\n",
    "sort_array2d_axis0 = np.sort(array2d, axis=0)\n",
    "print('로우 방향으로 정렬 :\\n', sort_array2d_axis0)\n",
    "\n",
    "sort_array2d_axis1 = np.sort(array2d, axis=1)\n",
    "print('칼럼 방향으로 정렬 :\\n', sort_array2d_axis1)"
   ]
  },
  {
   "source": [
    "### 정렬된 행렬의 인덱스를 반환"
   ],
   "cell_type": "markdown",
   "metadata": {}
  },
  {
   "cell_type": "code",
   "execution_count": 23,
   "metadata": {},
   "outputs": [
    {
     "output_type": "stream",
     "name": "stdout",
     "text": [
      "<class 'numpy.ndarray'>\n행렬 정렬 시 원본 행렬의 인덱스 : [1 0 3 2]\n"
     ]
    }
   ],
   "source": [
    "# argsort()를 이용해 오름차순 정렬 행렬의 원본 행렬 인덱스를 ndarray 형으로 반환, 원본 행렬은 정렬된 상태로 저장\n",
    "org_array = np.array([3, 1, 9, 5])\n",
    "sort_indices = np.argsort(org_array)\n",
    "print(type(sort_indices))\n",
    "print('행렬 정렬 시 원본 행렬의 인덱스 :', sort_indices)"
   ]
  },
  {
   "cell_type": "code",
   "execution_count": 24,
   "metadata": {},
   "outputs": [
    {
     "output_type": "stream",
     "name": "stdout",
     "text": [
      "행렬 내림차순 정렬 시 원본 행렬의 인덱스 : [2 3 0 1]\n"
     ]
    }
   ],
   "source": [
    "# argsort()를 이용한 내림차순 정렬\n",
    "org_array = np.array([3, 1, 9, 5])\n",
    "sort_indices_desc = np.argsort(org_array)[::-1]\n",
    "print('행렬 내림차순 정렬 시 원본 행렬의 인덱스 :', sort_indices_desc)"
   ]
  },
  {
   "cell_type": "code",
   "execution_count": 25,
   "metadata": {},
   "outputs": [
    {
     "output_type": "stream",
     "name": "stdout",
     "text": [
      "성적 오름차순 정렬 시 score_array의 인덱스 : [0 2 4 1 3]\n성적 오름차순으로 name_array의 이름 출력 : ['John' 'Sarah' 'Samuel' 'Mike' 'Kate']\n"
     ]
    }
   ],
   "source": [
    "# numpy 형식에서 실제 값과 그 값이 뜻하는 메타 데이터를 표현, 별도의 ndarray들을 정렬\n",
    "\n",
    "name_array = np.array(['John', 'Mike', 'Sarah', 'Kate', 'Samuel'])\n",
    "score_array = np.array([78, 95, 84, 98, 88])\n",
    "\n",
    "sort_indices_asc = np.argsort(score_array)\n",
    "print('성적 오름차순 정렬 시 score_array의 인덱스 :', sort_indices_asc)\n",
    "print('성적 오름차순으로 name_array의 이름 출력 :', name_array[sort_indices_asc])"
   ]
  },
  {
   "source": [
    "### 행렬 내적과 전치 행렬 구하기"
   ],
   "cell_type": "markdown",
   "metadata": {}
  },
  {
   "cell_type": "code",
   "execution_count": 26,
   "metadata": {},
   "outputs": [
    {
     "output_type": "stream",
     "name": "stdout",
     "text": [
      "행렬 내적 결과 :\n [[ 58  64]\n [139 154]]\n"
     ]
    }
   ],
   "source": [
    "# dot() 함수를 이용한 행렬 내적\n",
    "A = np.array( [ [1, 2, 3], [4, 5, 6] ] )\n",
    "B = np.array( [ [7, 8], [9, 10], [11, 12] ] )\n",
    "\n",
    "dot_product = np.dot(A, B)\n",
    "print('행렬 내적 결과 :\\n', dot_product)"
   ]
  },
  {
   "cell_type": "code",
   "execution_count": 27,
   "metadata": {},
   "outputs": [
    {
     "output_type": "stream",
     "name": "stdout",
     "text": [
      "A의 전치 행렬 :\n [[1 3]\n [2 4]]\n"
     ]
    }
   ],
   "source": [
    "# transpose() 함수를 이요한 전치 행렬\n",
    "A = np.array( [ [1, 2], [3, 4] ] )\n",
    "transpose_mat = np.transpose(A)\n",
    "print('A의 전치 행렬 :\\n', transpose_mat)"
   ]
  }
 ]
}